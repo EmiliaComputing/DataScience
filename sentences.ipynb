{
  "nbformat": 4,
  "nbformat_minor": 0,
  "metadata": {
    "colab": {
      "name": "sentences.ipynb",
      "provenance": [],
      "collapsed_sections": [],
      "authorship_tag": "ABX9TyNJIxx2cTzgxXTUdPep8lJB",
      "include_colab_link": true
    },
    "kernelspec": {
      "name": "python3",
      "display_name": "Python 3"
    },
    "language_info": {
      "name": "python"
    }
  },
  "cells": [
    {
      "cell_type": "markdown",
      "metadata": {
        "id": "view-in-github",
        "colab_type": "text"
      },
      "source": [
        "<a href=\"https://colab.research.google.com/github/EmiliaComputing/DataScience/blob/main/sentences.ipynb\" target=\"_parent\"><img src=\"https://colab.research.google.com/assets/colab-badge.svg\" alt=\"Open In Colab\"/></a>"
      ]
    },
    {
      "cell_type": "code",
      "metadata": {
        "id": "jvz-4umCv5eV"
      },
      "source": [
        "import pandas\n",
        "import spacy\n",
        "from spacy.matcher import PhraseMatcher"
      ],
      "execution_count": 2,
      "outputs": []
    },
    {
      "cell_type": "code",
      "metadata": {
        "colab": {
          "base_uri": "https://localhost:8080/"
        },
        "id": "ZTCsR4igwB3V",
        "outputId": "c4bbb16c-fe16-43fc-da2e-4d4e5e97ed6d"
      },
      "source": [
        "nlp = spacy.load('en')\n",
        "print('True means the word is unimportant. False means the word is important.')\n",
        "print('')\n",
        "sentence = input(\"Enter sentence: \")\n",
        "doc = nlp(sentence)\n",
        "for word in doc:\n",
        "  print(f'{word} - {word.lemma_} - {word.is_stop}')"
      ],
      "execution_count": 3,
      "outputs": [
        {
          "output_type": "stream",
          "name": "stdout",
          "text": [
            "True means the word is unimportant. False means the word is important.\n",
            "\n",
            "Enter sentence: hello this is not an important sentence do you agree computer\n",
            "hello - hello - False\n",
            "this - this - True\n",
            "is - be - True\n",
            "not - not - True\n",
            "an - an - True\n",
            "important - important - False\n",
            "sentence - sentence - False\n",
            "do - do - True\n",
            "you - -PRON- - True\n",
            "agree - agree - False\n",
            "computer - computer - False\n"
          ]
        }
      ]
    },
    {
      "cell_type": "code",
      "metadata": {
        "colab": {
          "base_uri": "https://localhost:8080/"
        },
        "id": "wthVFoo4ytuc",
        "outputId": "516deb28-2716-40ed-9e6c-eeff4d7b717b"
      },
      "source": [
        "matcher = PhraseMatcher(nlp.vocab, attr = \"LOWER\")\n",
        "\n",
        "print(\"Below is an extract from a website. The computer will analyse the text.\")\n",
        "\n",
        "review = nlp(\"\"\"\n",
        "Whether to buy an Android or an iPhone is arguably a more pressing question than it has ever been if you’re\n",
        "looking to change or upgrade your phone. Top Androids like the Samsung Galaxy S21 Ultra are far more expensive\n",
        "than they were a handful of years ago, and the relative price of entry for Apple hardware is much lower than \n",
        "in the old days.This is no longer simply a case of ‘iPhones are for rich people’ and Androids are for everyone\n",
        "else. We’re going to break down everything you need to consider when choosing between an iPhone SE (2020) and\n",
        "OnePlus Nord, or an iPhone 12 Pro Max and Google Pixel 5. And everything in-between.\n",
        "\"\"\")\n",
        "\n",
        "terms = [\"iPhone\", \"iPhone SE\", \"iPhone 12 Pro Max\", \"Google Pixel 5\",\"Android\", \"Samsung Galaxy\"]\n",
        "\n",
        "patterns = []\n",
        "\n",
        "for item in terms:\n",
        "  pattern = nlp(item)\n",
        "  patterns.append(pattern)\n",
        "\n",
        "matcher.add(\"Phone Patterns:\", patterns)\n",
        "matches = matcher(review)\n",
        "print(matches)\n",
        "id, start, end = matches[0]\n",
        "print(nlp.vocab.strings[id], review[start:end])\n",
        "\n"
      ],
      "execution_count": null,
      "outputs": [
        {
          "output_type": "stream",
          "name": "stdout",
          "text": [
            "[(2378627420640709019, 5, 6), (2378627420640709019, 8, 9), (2378627420640709019, 36, 38), (2378627420640709019, 111, 112), (2378627420640709019, 111, 113), (2378627420640709019, 123, 124), (2378627420640709019, 123, 127), (2378627420640709019, 128, 131)]\n",
            "Phone Patterns: Android\n"
          ]
        }
      ]
    }
  ]
}